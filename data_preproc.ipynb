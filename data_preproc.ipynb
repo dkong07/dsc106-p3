{
 "cells": [
  {
   "cell_type": "code",
   "execution_count": 1,
   "id": "7bd9fee5-7f8b-4fd7-9c61-7c44897fad6f",
   "metadata": {
    "tags": []
   },
   "outputs": [],
   "source": [
    "import numpy as np\n",
    "import pandas as pd\n"
   ]
  },
  {
   "cell_type": "code",
   "execution_count": 2,
   "id": "4fb76e63",
   "metadata": {},
   "outputs": [
    {
     "data": {
      "text/plain": [
       "['grade',\n",
       " 'state',\n",
       " 'total',\n",
       " 'Native American',\n",
       " 'native_pct',\n",
       " 'Asian',\n",
       " 'asian_pct',\n",
       " 'Hispanic/Latino',\n",
       " 'hisp_pct',\n",
       " 'Black',\n",
       " 'black_pct',\n",
       " 'White',\n",
       " 'white_pct',\n",
       " 'Pacific Islander',\n",
       " 'pcf_isl_pct',\n",
       " 'mixed',\n",
       " 'mixed_pct']"
      ]
     },
     "execution_count": 2,
     "metadata": {},
     "output_type": "execute_result"
    }
   ],
   "source": [
    "cols = 'grade,state,total,Native American,native_pct,Asian,asian_pct,Hispanic/Latino,hisp_pct,Black,black_pct,White,white_pct,Pacific Islander,pcf_isl_pct,mixed,mixed_pct'\n",
    "cols = cols.split(',')\n",
    "cols"
   ]
  },
  {
   "cell_type": "code",
   "execution_count": 3,
   "id": "1d7acece",
   "metadata": {
    "scrolled": true
   },
   "outputs": [],
   "source": [
    "def intake(path,cols,sh):\n",
    "    #print(sheet)\n",
    "    dataf = pd.read_excel(path,header=[4,5],sheet_name=sh)\n",
    "    dataf.columns = dataf.columns.map('_'.join)\n",
    "    dataf.drop(dataf.columns[17:25],axis=1,inplace=True)\n",
    "    dataf.columns = cols\n",
    "    grade = str(dataf.grade[0][17:])\n",
    "    dataf = dataf.drop('grade',axis=1)\n",
    "    dataf = dataf[dataf.columns.drop(list(dataf.filter(regex='pct')))]\n",
    "    #dataf = dataf.rename(lambda x: x+grade, axis='columns')\n",
    "    return dataf.drop([53,54,55,56])\n",
    "\n",
    "\n",
    "def edu_lvl(grades,gender):\n",
    "    dfs=[]\n",
    "    for src in grades:\n",
    "        sheet = 'G'+src[22:][:-5] + \" \" + gender\n",
    "        dfs.append(intake(src,cols,sheet))\n",
    "    state = dfs[0].state\n",
    "    curr = dfs[0].drop('state', axis=1)\n",
    "    for grade in dfs[1:]:\n",
    "        curr = curr+grade.drop('state',axis=1)\n",
    "    curr.insert(0, \"state\", state)\n",
    "    return curr.set_index(curr.state).drop('state',axis=1)\n"
   ]
  },
  {
   "cell_type": "code",
   "execution_count": 4,
   "id": "5d9e7e46",
   "metadata": {},
   "outputs": [],
   "source": [
    "\n",
    "src1 = 'raw_data/es/Retention-in-Grade-1.xlsx'\n",
    "src2 = 'raw_data/es/Retention-in-Grade-2.xlsx'\n",
    "src3 = 'raw_data/es/Retention-in-Grade-3.xlsx'\n",
    "src4 = 'raw_data/es/Retention-in-Grade-4.xlsx'\n",
    "src5 = 'raw_data/es/Retention-in-Grade-5.xlsx'\n",
    "src6 = 'raw_data/ms/Retention-in-Grade-6.xlsx'\n",
    "src7 = 'raw_data/ms/Retention-in-Grade-7.xlsx'\n",
    "src8 = 'raw_data/ms/Retention-in-Grade-8.xlsx'\n",
    "src9 = 'raw_data/hs/Retention-in-Grade-9.xlsx'\n",
    "src10 = 'raw_data/hs/Retention-in-Grade-10.xlsx'\n",
    "src11 = 'raw_data/hs/Retention-in-Grade-11.xlsx'\n",
    "src12 = 'raw_data/hs/Retention-in-Grade-12.xlsx'\n",
    "es=[src1,src2,src3,src4,src5]\n",
    "ms=[src6,src7,src8]\n",
    "hs=[src9,src10,src11,src12]\n",
    "\n",
    "t = \"Total\"\n",
    "m = \"Male\"\n",
    "f = 'Female'"
   ]
  },
  {
   "cell_type": "code",
   "execution_count": null,
   "id": "08a35cda",
   "metadata": {},
   "outputs": [],
   "source": []
  },
  {
   "cell_type": "code",
   "execution_count": 5,
   "id": "243ba4ab",
   "metadata": {},
   "outputs": [],
   "source": [
    "esdf = edu_lvl(es,t)\n",
    "msdf = edu_lvl(ms,t)\n",
    "hsdf = edu_lvl(hs,t)\n",
    "esdf.to_json('elem_total.json', orient='index')\n",
    "msdf.to_json('middle_total.json', orient='index')\n",
    "hsdf.to_json('high_total.json', orient='index')"
   ]
  },
  {
   "cell_type": "code",
   "execution_count": 6,
   "id": "78b4b93e",
   "metadata": {},
   "outputs": [
    {
     "data": {
      "text/plain": [
       "(state\n",
       " 50 states, District of Columbia, and Puerto Rico    190376.0\n",
       " Alabama                                               4945.0\n",
       " Alaska                                                  84.0\n",
       " Arizona                                               2703.0\n",
       " Arkansas                                              1785.0\n",
       " Name: total, dtype: float64,\n",
       " state\n",
       " 50 states, District of Columbia, and Puerto Rico    68450.0\n",
       " Alabama                                              1737.0\n",
       " Alaska                                                 25.0\n",
       " Arizona                                              1389.0\n",
       " Arkansas                                              563.0\n",
       " Name: total, dtype: float64,\n",
       " state\n",
       " 50 states, District of Columbia, and Puerto Rico    513478.0\n",
       " Alabama                                               9031.0\n",
       " Alaska                                                1098.0\n",
       " Arizona                                               8677.0\n",
       " Arkansas                                              2441.0\n",
       " Name: total, dtype: float64)"
      ]
     },
     "execution_count": 6,
     "metadata": {},
     "output_type": "execute_result"
    }
   ],
   "source": [
    "esdf.head()['total'], msdf.head()['total'],hsdf.head()['total']"
   ]
  },
  {
   "cell_type": "code",
   "execution_count": null,
   "id": "ed534748",
   "metadata": {},
   "outputs": [],
   "source": []
  },
  {
   "cell_type": "code",
   "execution_count": null,
   "id": "497d3811",
   "metadata": {},
   "outputs": [],
   "source": []
  },
  {
   "cell_type": "code",
   "execution_count": 7,
   "id": "c7e5bd44",
   "metadata": {},
   "outputs": [],
   "source": [
    "male_esdf = edu_lvl(es,m)\n",
    "male_msdf = edu_lvl(ms,m)\n",
    "male_hsdf = edu_lvl(hs,m)\n",
    "male_esdf.to_json('elem_m.json', orient='index')\n",
    "male_msdf.to_json('middle_m.json', orient='index')\n",
    "male_hsdf.to_json('high_m.json', orient='index')"
   ]
  },
  {
   "cell_type": "code",
   "execution_count": 8,
   "id": "0853d765",
   "metadata": {},
   "outputs": [
    {
     "data": {
      "text/plain": [
       "(state\n",
       " 50 states, District of Columbia, and Puerto Rico    108724.0\n",
       " Alabama                                               2852.0\n",
       " Alaska                                                  48.0\n",
       " Arizona                                               1532.0\n",
       " Arkansas                                               953.0\n",
       " Name: total, dtype: float64,\n",
       " state\n",
       " 50 states, District of Columbia, and Puerto Rico    45366.0\n",
       " Alabama                                              1230.0\n",
       " Alaska                                                 17.0\n",
       " Arizona                                               886.0\n",
       " Arkansas                                              383.0\n",
       " Name: total, dtype: float64,\n",
       " state\n",
       " 50 states, District of Columbia, and Puerto Rico    318500.0\n",
       " Alabama                                               5671.0\n",
       " Alaska                                                 671.0\n",
       " Arizona                                               5235.0\n",
       " Arkansas                                              1574.0\n",
       " Name: total, dtype: float64)"
      ]
     },
     "execution_count": 8,
     "metadata": {},
     "output_type": "execute_result"
    }
   ],
   "source": [
    "male_esdf.head()['total'], male_msdf.head()['total'],male_hsdf.head()['total']"
   ]
  },
  {
   "cell_type": "code",
   "execution_count": null,
   "id": "232ddfbe",
   "metadata": {},
   "outputs": [],
   "source": []
  },
  {
   "cell_type": "code",
   "execution_count": 9,
   "id": "dc59c16d",
   "metadata": {},
   "outputs": [],
   "source": [
    "female_esdf = edu_lvl(es,f)\n",
    "female_msdf = edu_lvl(ms,f)\n",
    "female_hsdf = edu_lvl(hs,f)\n",
    "female_esdf.to_json('elem_f.json', orient='index')\n",
    "female_msdf.to_json('middle_f.json', orient='index')\n",
    "female_hsdf.to_json('high_f.json', orient='index')"
   ]
  },
  {
   "cell_type": "code",
   "execution_count": 10,
   "id": "0384a66a",
   "metadata": {},
   "outputs": [
    {
     "data": {
      "text/plain": [
       "(state\n",
       " 50 states, District of Columbia, and Puerto Rico    81652.0\n",
       " Alabama                                              2093.0\n",
       " Alaska                                                 36.0\n",
       " Arizona                                              1171.0\n",
       " Arkansas                                              832.0\n",
       " Name: total, dtype: float64,\n",
       " state\n",
       " 50 states, District of Columbia, and Puerto Rico    23084.0\n",
       " Alabama                                               507.0\n",
       " Alaska                                                  8.0\n",
       " Arizona                                               503.0\n",
       " Arkansas                                              180.0\n",
       " Name: total, dtype: float64,\n",
       " state\n",
       " 50 states, District of Columbia, and Puerto Rico    194978.0\n",
       " Alabama                                               3360.0\n",
       " Alaska                                                 427.0\n",
       " Arizona                                               3442.0\n",
       " Arkansas                                               867.0\n",
       " Name: total, dtype: float64)"
      ]
     },
     "execution_count": 10,
     "metadata": {},
     "output_type": "execute_result"
    }
   ],
   "source": [
    "female_esdf.head()['total'], female_msdf.head()['total'],female_hsdf.head()['total']"
   ]
  },
  {
   "cell_type": "code",
   "execution_count": null,
   "id": "27527885",
   "metadata": {},
   "outputs": [],
   "source": []
  },
  {
   "cell_type": "code",
   "execution_count": 11,
   "id": "ae02fa5e",
   "metadata": {},
   "outputs": [],
   "source": [
    "allyrs_m = male_esdf + male_msdf + male_hsdf\n",
    "allyrs_f = female_esdf + female_msdf + female_hsdf\n",
    "allyrs_total = esdf + msdf + hsdf\n",
    "allyrs_total.to_json('allyrs_total.json', orient='index')\n",
    "allyrs_m.to_json('allyrs_m.json', orient='index')\n",
    "allyrs_f.to_json('allyrs_f.json', orient='index')"
   ]
  },
  {
   "cell_type": "code",
   "execution_count": 12,
   "id": "121af16b",
   "metadata": {},
   "outputs": [
    {
     "data": {
      "text/plain": [
       "(state\n",
       " 50 states, District of Columbia, and Puerto Rico    772304.0\n",
       " Alabama                                              15713.0\n",
       " Alaska                                                1207.0\n",
       " Arizona                                              12769.0\n",
       " Arkansas                                              4789.0\n",
       " Name: total, dtype: float64,\n",
       " state\n",
       " 50 states, District of Columbia, and Puerto Rico    472590.0\n",
       " Alabama                                               9753.0\n",
       " Alaska                                                 736.0\n",
       " Arizona                                               7653.0\n",
       " Arkansas                                              2910.0\n",
       " Name: total, dtype: float64,\n",
       " state\n",
       " 50 states, District of Columbia, and Puerto Rico    299714.0\n",
       " Alabama                                               5960.0\n",
       " Alaska                                                 471.0\n",
       " Arizona                                               5116.0\n",
       " Arkansas                                              1879.0\n",
       " Name: total, dtype: float64)"
      ]
     },
     "execution_count": 12,
     "metadata": {},
     "output_type": "execute_result"
    }
   ],
   "source": [
    "allyrs_total.head()['total'], allyrs_m.head()['total'],allyrs_f.head()['total']"
   ]
  },
  {
   "cell_type": "code",
   "execution_count": null,
   "id": "b6fd0666",
   "metadata": {},
   "outputs": [],
   "source": []
  },
  {
   "cell_type": "code",
   "execution_count": null,
   "id": "75ac91ba",
   "metadata": {},
   "outputs": [],
   "source": []
  },
  {
   "cell_type": "code",
   "execution_count": null,
   "id": "fd4be1fd-c304-4e4c-a295-5712cec48fb1",
   "metadata": {
    "tags": []
   },
   "outputs": [],
   "source": []
  },
  {
   "cell_type": "code",
   "execution_count": null,
   "id": "b9359d02-88d2-4a7b-924f-e5324ae2523d",
   "metadata": {
    "tags": []
   },
   "outputs": [],
   "source": []
  },
  {
   "cell_type": "code",
   "execution_count": null,
   "id": "63f6eeaf-7858-4e41-ac7c-19d62991bf1f",
   "metadata": {
    "tags": []
   },
   "outputs": [],
   "source": []
  },
  {
   "cell_type": "code",
   "execution_count": null,
   "id": "c42df0c6-1e89-4d73-b809-38e01cde28c6",
   "metadata": {},
   "outputs": [],
   "source": []
  },
  {
   "cell_type": "code",
   "execution_count": null,
   "id": "32eb2b41-098f-4441-8690-f1990054f079",
   "metadata": {},
   "outputs": [],
   "source": []
  },
  {
   "cell_type": "code",
   "execution_count": null,
   "id": "166e0e62-ab00-4331-8061-43b07746d3b6",
   "metadata": {
    "tags": []
   },
   "outputs": [],
   "source": []
  },
  {
   "cell_type": "code",
   "execution_count": null,
   "id": "76e9da64-c47a-444e-ade8-4b2b60bac093",
   "metadata": {
    "tags": []
   },
   "outputs": [],
   "source": []
  },
  {
   "cell_type": "code",
   "execution_count": null,
   "id": "8b2b54ee-059b-4aac-9044-0dc7315187e1",
   "metadata": {},
   "outputs": [],
   "source": []
  }
 ],
 "metadata": {
  "kernelspec": {
   "display_name": "Python 3 (ipykernel)",
   "language": "python",
   "name": "python3"
  },
  "language_info": {
   "codemirror_mode": {
    "name": "ipython",
    "version": 3
   },
   "file_extension": ".py",
   "mimetype": "text/x-python",
   "name": "python",
   "nbconvert_exporter": "python",
   "pygments_lexer": "ipython3",
   "version": "3.11.5"
  }
 },
 "nbformat": 4,
 "nbformat_minor": 5
}
